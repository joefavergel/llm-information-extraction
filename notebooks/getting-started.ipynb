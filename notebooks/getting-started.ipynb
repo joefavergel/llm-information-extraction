{
 "cells": [
  {
   "cell_type": "markdown",
   "metadata": {},
   "source": [
    "<img heigth=\"8\" src=\"https://i.imgur.com/BcT6v4W.png\" alt=\"llmix\">\n",
    "\n",
    "<h1 align=\"left\">Getting Started</h1>\n",
    "<h2 align=\"left\"><i>From Inception to Fruition</i></h2>\n",
    "\n",
    "<p align=\"left\">\n",
    "  <h3><a href=\"https://joefaver.dev\">Joseph F. Vergel-Becerra</a></h3>\n",
    "  <br>\n",
    "  <b>Last updated:</b> <i>03/02/2024</i>\n",
    "  <br><br>\n",
    "  <a href=\"#introduction\">Introduction</a> •\n",
    "  <a href=\"#references\">References</a>\n",
    "  <br><br>\n",
    "</p>\n",
    "<table align=\"left\">\n",
    "  <td>\n",
    "      <a href=\"https://img.shields.io/badge/version-0.1.0-blue.svg?cacheSeconds=2592000\">\n",
    "        <img src=\"https://img.shields.io/badge/version-0.1.0-blue.svg?cacheSeconds=2592000\" alt=\"Version\" height=\"18\">\n",
    "      </a>\n",
    "  </td>\n",
    "  <td>\n",
    "    <a href=\"https://colab.research.google.com/github/joefavergel/pbs-enae-python-applications-course/blob/main/2-retail-store-item-detection-preparation.ipynb\" target=\"_parent\"><img src=\"https://colab.research.google.com/assets/colab-badge.svg\" alt=\"Open In Colab\"/>\n",
    "      </a>\n",
    "  </td>\n",
    "  <td>\n",
    "    <a href=\"https://github.com/joefavergel/pbs-enae-python-applications-course\" target=\"_parent\"><img src=\"https://img.shields.io/github/forks/joefavergel/pbs-enae-python-beginners-course?style=social\" alt=\"Fork\"/>\n",
    "    </a>\n",
    "  </td>\n",
    "</table>\n",
    "<br>\n",
    "<br>\n",
    "\n",
    "---\n",
    "\n",
    "A compilation of notes."
   ]
  },
  {
   "cell_type": "markdown",
   "metadata": {},
   "source": [
    "<a id=\"introduction\"></a>\n",
    "## Introduction"
   ]
  },
  {
   "cell_type": "code",
   "execution_count": 1,
   "metadata": {},
   "outputs": [],
   "source": [
    "import os\n",
    "import os.path\n",
    "from llama_index import (\n",
    "    VectorStoreIndex,\n",
    "    SimpleDirectoryReader,\n",
    "    StorageContext,\n",
    "    load_index_from_storage,\n",
    ")\n",
    "\n",
    "from pprint import pprint"
   ]
  },
  {
   "cell_type": "code",
   "execution_count": 2,
   "metadata": {},
   "outputs": [
    {
     "name": "stdout",
     "output_type": "stream",
     "text": [
      "[INFO] WORKDIR: /Users/joefaver/Codes/self/llm-information-retrieval/..\n"
     ]
    }
   ],
   "source": [
    "try:\n",
    "    import importlib\n",
    "\n",
    "    __package__ = \"llmix\"\n",
    "\n",
    "    found = False\n",
    "    while not found:\n",
    "        os.chdir(os.path.join(os.getcwd(), os.pardir))\n",
    "        found = bool(importlib.util.find_spec(__package__))\n",
    "        if found:\n",
    "            print(f\"[INFO] WORKDIR: {os.path.join(os.getcwd(), os.pardir)}\")\n",
    "        continue\n",
    "except ModuleNotFoundError as e:\n",
    "    print(\"[ERROR] Verify WORKDIR execution: \", e)"
   ]
  },
  {
   "cell_type": "code",
   "execution_count": 6,
   "metadata": {},
   "outputs": [],
   "source": [
    "import llmix\n",
    "from llmix.config import settings\n",
    "from llmix.logging import get_logger\n",
    "\n",
    "logger = get_logger(type_='stream', level='DEBUG')"
   ]
  },
  {
   "cell_type": "markdown",
   "metadata": {},
   "source": [
    "<a id=\"1-starter-tutorial\"></a>\n",
    "## 1. Starter tutorial"
   ]
  },
  {
   "cell_type": "code",
   "execution_count": 7,
   "metadata": {},
   "outputs": [
    {
     "name": "stdout",
     "output_type": "stream",
     "text": [
      "2024-02-04 11:15:22,472 \u001b[36;20m [llama_index.storage.kvstore.simple_kvstore] [DEBUG] \u001b[0m Loading llama_index.storage.kvstore.simple_kvstore from ./storage/docstore.json.\n",
      "2024-02-04 11:15:22,473 \u001b[36;20m [fsspec.local] [DEBUG] \u001b[0m open file: /Users/joefaver/Codes/self/llm-information-retrieval/storage/docstore.json\n",
      "2024-02-04 11:15:22,474 \u001b[36;20m [llama_index.storage.kvstore.simple_kvstore] [DEBUG] \u001b[0m Loading llama_index.storage.kvstore.simple_kvstore from ./storage/index_store.json.\n",
      "2024-02-04 11:15:22,474 \u001b[36;20m [fsspec.local] [DEBUG] \u001b[0m open file: /Users/joefaver/Codes/self/llm-information-retrieval/storage/index_store.json\n",
      "2024-02-04 11:15:22,475 \u001b[36;20m [llama_index.graph_stores.simple] [DEBUG] \u001b[0m Loading llama_index.graph_stores.simple from ./storage/graph_store.json.\n",
      "2024-02-04 11:15:22,475 \u001b[36;20m [fsspec.local] [DEBUG] \u001b[0m open file: /Users/joefaver/Codes/self/llm-information-retrieval/storage/graph_store.json\n",
      "2024-02-04 11:15:22,476 \u001b[36;20m [llama_index.vector_stores.simple] [DEBUG] \u001b[0m Loading llama_index.vector_stores.simple from ./storage/image__vector_store.json.\n",
      "2024-02-04 11:15:22,476 \u001b[36;20m [fsspec.local] [DEBUG] \u001b[0m open file: /Users/joefaver/Codes/self/llm-information-retrieval/storage/image__vector_store.json\n",
      "2024-02-04 11:15:22,476 \u001b[36;20m [llama_index.vector_stores.simple] [DEBUG] \u001b[0m Loading llama_index.vector_stores.simple from ./storage/default__vector_store.json.\n",
      "2024-02-04 11:15:22,477 \u001b[36;20m [fsspec.local] [DEBUG] \u001b[0m open file: /Users/joefaver/Codes/self/llm-information-retrieval/storage/default__vector_store.json\n",
      "2024-02-04 11:15:22,546 \u001b[32m [llama_index.indices.loading] [INFO] \u001b[0m Loading all indices.\n"
     ]
    }
   ],
   "source": [
    "# check if storage already exists\n",
    "PERSIST_DIR = \"./storage\"\n",
    "if not os.path.exists(PERSIST_DIR) or not os.path.exists(os.path.join(PERSIST_DIR, 'docstore.json')):\n",
    "    # load the documents and create the index\n",
    "    documents = SimpleDirectoryReader(\"datalake\").load_data()\n",
    "    index = VectorStoreIndex.from_documents(documents)\n",
    "    # store it for later\n",
    "    index.storage_context.persist(persist_dir=PERSIST_DIR)\n",
    "else:\n",
    "    # load the existing index\n",
    "    storage_context = StorageContext.from_defaults(persist_dir=PERSIST_DIR)\n",
    "    index = load_index_from_storage(storage_context)"
   ]
  },
  {
   "cell_type": "code",
   "execution_count": 8,
   "metadata": {},
   "outputs": [
    {
     "name": "stdout",
     "output_type": "stream",
     "text": [
      "2024-02-04 11:15:23,244 \u001b[36;20m [httpx] [DEBUG] \u001b[0m load_ssl_context verify=True cert=None trust_env=True http2=False\n",
      "2024-02-04 11:15:23,245 \u001b[36;20m [httpx] [DEBUG] \u001b[0m load_verify_locations cafile='/Users/joefaver/.local/share/virtualenvs/llm-information-retrieval-YlmZYzqu/lib/python3.11/site-packages/certifi/cacert.pem'\n",
      "2024-02-04 11:15:23,252 \u001b[36;20m [openai._base_client] [DEBUG] \u001b[0m Request options: {'method': 'post', 'url': '/embeddings', 'files': None, 'post_parser': <function Embeddings.create.<locals>.parser at 0x16aac1da0>, 'json_data': {'input': ['What did the author do growing up?'], 'model': <OpenAIEmbeddingModeModel.TEXT_EMBED_ADA_002: 'text-embedding-ada-002'>, 'encoding_format': 'base64'}}\n",
      "2024-02-04 11:15:23,253 \u001b[36;20m [httpcore.connection] [DEBUG] \u001b[0m connect_tcp.started host='api.openai.com' port=443 local_address=None timeout=60.0 socket_options=None\n",
      "2024-02-04 11:15:23,318 \u001b[36;20m [httpcore.connection] [DEBUG] \u001b[0m connect_tcp.complete return_value=<httpcore._backends.sync.SyncStream object at 0x163e35410>\n",
      "2024-02-04 11:15:23,319 \u001b[36;20m [httpcore.connection] [DEBUG] \u001b[0m start_tls.started ssl_context=<ssl.SSLContext object at 0x10856b770> server_hostname='api.openai.com' timeout=60.0\n",
      "2024-02-04 11:15:23,415 \u001b[36;20m [httpcore.connection] [DEBUG] \u001b[0m start_tls.complete return_value=<httpcore._backends.sync.SyncStream object at 0x168bee910>\n",
      "2024-02-04 11:15:23,416 \u001b[36;20m [httpcore.http11] [DEBUG] \u001b[0m send_request_headers.started request=<Request [b'POST']>\n",
      "2024-02-04 11:15:23,416 \u001b[36;20m [httpcore.http11] [DEBUG] \u001b[0m send_request_headers.complete\n",
      "2024-02-04 11:15:23,416 \u001b[36;20m [httpcore.http11] [DEBUG] \u001b[0m send_request_body.started request=<Request [b'POST']>\n",
      "2024-02-04 11:15:23,416 \u001b[36;20m [httpcore.http11] [DEBUG] \u001b[0m send_request_body.complete\n",
      "2024-02-04 11:15:23,417 \u001b[36;20m [httpcore.http11] [DEBUG] \u001b[0m receive_response_headers.started request=<Request [b'POST']>\n",
      "2024-02-04 11:15:23,592 \u001b[36;20m [httpcore.http11] [DEBUG] \u001b[0m receive_response_headers.complete return_value=(b'HTTP/1.1', 200, b'OK', [(b'Date', b'Sun, 04 Feb 2024 16:15:23 GMT'), (b'Content-Type', b'application/json'), (b'Transfer-Encoding', b'chunked'), (b'Connection', b'keep-alive'), (b'access-control-allow-origin', b'*'), (b'openai-model', b'text-embedding-ada-002'), (b'openai-organization', b'guaneenterprises'), (b'openai-processing-ms', b'22'), (b'openai-version', b'2020-10-01'), (b'strict-transport-security', b'max-age=15724800; includeSubDomains'), (b'x-ratelimit-limit-requests', b'10000'), (b'x-ratelimit-limit-tokens', b'10000000'), (b'x-ratelimit-remaining-requests', b'9999'), (b'x-ratelimit-remaining-tokens', b'9999991'), (b'x-ratelimit-reset-requests', b'6ms'), (b'x-ratelimit-reset-tokens', b'0s'), (b'x-request-id', b'd720b52e7d7ad2a3482b5948e15e80fe'), (b'CF-Cache-Status', b'DYNAMIC'), (b'Set-Cookie', b'__cf_bm=5sUmhG4mJEs.to5o6MX8LrXClKlO5GDDm8CTR6KvWlk-1707063323-1-AVyKKnb/cgFXoPDvzpLxzcGQ8Khw9MDMnIPAZa9Fvn2Y5EmEgk7U6kjr6FWZaX4lwfS9cC4s6Gj12ESuUQrCqFY=; path=/; expires=Sun, 04-Feb-24 16:45:23 GMT; domain=.api.openai.com; HttpOnly; Secure; SameSite=None'), (b'Set-Cookie', b'_cfuvid=DVUd4c6KSfb3ZfbgSQvqYzWgy.1xTCLalDFC.oVg2Oc-1707063323616-0-604800000; path=/; domain=.api.openai.com; HttpOnly; Secure; SameSite=None'), (b'Server', b'cloudflare'), (b'CF-RAY', b'8504364c2d637472-MIA'), (b'Content-Encoding', b'gzip'), (b'alt-svc', b'h3=\":443\"; ma=86400')])\n",
      "2024-02-04 11:15:23,593 \u001b[32m [httpx] [INFO] \u001b[0m HTTP Request: POST https://api.openai.com/v1/embeddings \"HTTP/1.1 200 OK\"\n",
      "2024-02-04 11:15:23,593 \u001b[36;20m [httpcore.http11] [DEBUG] \u001b[0m receive_response_body.started request=<Request [b'POST']>\n",
      "2024-02-04 11:15:23,594 \u001b[36;20m [httpcore.http11] [DEBUG] \u001b[0m receive_response_body.complete\n",
      "2024-02-04 11:15:23,594 \u001b[36;20m [httpcore.http11] [DEBUG] \u001b[0m response_closed.started\n",
      "2024-02-04 11:15:23,594 \u001b[36;20m [httpcore.http11] [DEBUG] \u001b[0m response_closed.complete\n",
      "2024-02-04 11:15:23,595 \u001b[36;20m [openai._base_client] [DEBUG] \u001b[0m HTTP Request: POST https://api.openai.com/v1/embeddings \"200 OK\"\n",
      "2024-02-04 11:15:23,597 \u001b[36;20m [llama_index.indices.utils] [DEBUG] \u001b[0m > Top 2 nodes:\n",
      "> [Node d4e5eefc-0e29-4676-b10d-e4dcccfcae7e] [Similarity score:             0.816834] What I Worked On\n",
      "\n",
      "February 2021\n",
      "\n",
      "Before college the two main things I worked on, outside of schoo...\n",
      "> [Node f363e52d-5ada-41bb-84fb-7d0b00839508] [Similarity score:             0.809325] I wrote an essay for myself to answer that question, and I was surprised how long and messy the a...\n",
      "2024-02-04 11:15:23,602 \u001b[36;20m [httpx] [DEBUG] \u001b[0m load_ssl_context verify=True cert=None trust_env=True http2=False\n",
      "2024-02-04 11:15:23,602 \u001b[36;20m [httpx] [DEBUG] \u001b[0m load_verify_locations cafile='/Users/joefaver/.local/share/virtualenvs/llm-information-retrieval-YlmZYzqu/lib/python3.11/site-packages/certifi/cacert.pem'\n",
      "2024-02-04 11:15:23,608 \u001b[36;20m [openai._base_client] [DEBUG] \u001b[0m Request options: {'method': 'post', 'url': '/chat/completions', 'files': None, 'json_data': {'messages': [{'role': 'system', 'content': \"You are an expert Q&A system that is trusted around the world.\\nAlways answer the query using the provided context information, and not prior knowledge.\\nSome rules to follow:\\n1. Never directly reference the given context in your answer.\\n2. Avoid statements like 'Based on the context, ...' or 'The context information ...' or anything along those lines.\"}, {'role': 'user', 'content': 'Context information is below.\\n---------------------\\nfile_path: datalake/paul_graham_essay.txt\\n\\nWhat I Worked On\\n\\nFebruary 2021\\n\\nBefore college the two main things I worked on, outside of school, were writing and programming. I didn\\'t write essays. I wrote what beginning writers were supposed to write then, and probably still are: short stories. My stories were awful. They had hardly any plot, just characters with strong feelings, which I imagined made them deep.\\n\\nThe first programs I tried writing were on the IBM 1401 that our school district used for what was then called \"data processing.\" This was in 9th grade, so I was 13 or 14. The school district\\'s 1401 happened to be in the basement of our junior high school, and my friend Rich Draves and I got permission to use it. It was like a mini Bond villain\\'s lair down there, with all these alien-looking machines — CPU, disk drives, printer, card reader — sitting up on a raised floor under bright fluorescent lights.\\n\\nThe language we used was an early version of Fortran. You had to type programs on punch cards, then stack them in the card reader and press a button to load the program into memory and run it. The result would ordinarily be to print something on the spectacularly loud printer.\\n\\nI was puzzled by the 1401. I couldn\\'t figure out what to do with it. And in retrospect there\\'s not much I could have done with it. The only form of input to programs was data stored on punched cards, and I didn\\'t have any data stored on punched cards. The only other option was to do things that didn\\'t rely on any input, like calculate approximations of pi, but I didn\\'t know enough math to do anything interesting of that type. So I\\'m not surprised I can\\'t remember any programs I wrote, because they can\\'t have done much. My clearest memory is of the moment I learned it was possible for programs not to terminate, when one of mine didn\\'t. On a machine without time-sharing, this was a social as well as a technical error, as the data center manager\\'s expression made clear.\\n\\nWith microcomputers, everything changed. Now you could have a computer sitting right in front of you, on a desk, that could respond to your keystrokes as it was running instead of just churning through a stack of punch cards and then stopping. [1]\\n\\nThe first of my friends to get a microcomputer built it himself. It was sold as a kit by Heathkit. I remember vividly how impressed and envious I felt watching him sitting in front of it, typing programs right into the computer.\\n\\nComputers were expensive in those days and it took me years of nagging before I convinced my father to buy one, a TRS-80, in about 1980. The gold standard then was the Apple II, but a TRS-80 was good enough. This was when I really started programming. I wrote simple games, a program to predict how high my model rockets would fly, and a word processor that my father used to write at least one book. There was only room in memory for about 2 pages of text, so he\\'d write 2 pages at a time and then print them out, but it was a lot better than a typewriter.\\n\\nThough I liked programming, I didn\\'t plan to study it in college. In college I was going to study philosophy, which sounded much more powerful. It seemed, to my naive high school self, to be the study of the ultimate truths, compared to which the things studied in other fields would be mere domain knowledge. What I discovered when I got to college was that the other fields took up so much of the space of ideas that there wasn\\'t much left for these supposed ultimate truths. All that seemed left for philosophy were edge cases that people in other fields felt could safely be ignored.\\n\\nI couldn\\'t have put this into words when I was 18. All I knew at the time was that I kept taking philosophy courses and they kept being boring. So I decided to switch to AI.\\n\\nAI was in the air in the mid 1980s, but there were two things especially that made me want to work on it: a novel by Heinlein called The Moon is a Harsh Mistress, which featured an intelligent computer called Mike, and a PBS documentary that showed Terry Winograd using SHRDLU. I haven\\'t tried rereading The Moon is a Harsh Mistress, so I don\\'t know how well it has aged, but when I read it I was drawn entirely into its world. It seemed only a matter of time before we\\'d have Mike, and when I saw Winograd using SHRDLU, it seemed like that time would be a few years at most.\\n\\nfile_path: datalake/paul_graham_essay.txt\\n\\nI wrote an essay for myself to answer that question, and I was surprised how long and messy the answer turned out to be. If this surprised me, who\\'d lived it, then I thought perhaps it would be interesting to other people, and encouraging to those with similarly messy lives. So I wrote a more detailed version for others to read, and this is the last sentence of it.\\n\\n\\n\\n\\n\\n\\n\\n\\n\\nNotes\\n\\n[1] My experience skipped a step in the evolution of computers: time-sharing machines with interactive OSes. I went straight from batch processing to microcomputers, which made microcomputers seem all the more exciting.\\n\\n[2] Italian words for abstract concepts can nearly always be predicted from their English cognates (except for occasional traps like polluzione). It\\'s the everyday words that differ. So if you string together a lot of abstract concepts with a few simple verbs, you can make a little Italian go a long way.\\n\\n[3] I lived at Piazza San Felice 4, so my walk to the Accademia went straight down the spine of old Florence: past the Pitti, across the bridge, past Orsanmichele, between the Duomo and the Baptistery, and then up Via Ricasoli to Piazza San Marco. I saw Florence at street level in every possible condition, from empty dark winter evenings to sweltering summer days when the streets were packed with tourists.\\n\\n[4] You can of course paint people like still lives if you want to, and they\\'re willing. That sort of portrait is arguably the apex of still life painting, though the long sitting does tend to produce pained expressions in the sitters.\\n\\n[5] Interleaf was one of many companies that had smart people and built impressive technology, and yet got crushed by Moore\\'s Law. In the 1990s the exponential growth in the power of commodity (i.e. Intel) processors rolled up high-end, special-purpose hardware and software companies like a bulldozer.\\n\\n[6] The signature style seekers at RISD weren\\'t specifically mercenary. In the art world, money and coolness are tightly coupled. Anything expensive comes to be seen as cool, and anything seen as cool will soon become equally expensive.\\n\\n[7] Technically the apartment wasn\\'t rent-controlled but rent-stabilized, but this is a refinement only New Yorkers would know or care about. The point is that it was really cheap, less than half market price.\\n\\n[8] Most software you can launch as soon as it\\'s done. But when the software is an online store builder and you\\'re hosting the stores, if you don\\'t have any users yet, that fact will be painfully obvious. So before we could launch publicly we had to launch privately, in the sense of recruiting an initial set of users and making sure they had decent-looking stores.\\n\\n[9] We\\'d had a code editor in Viaweb for users to define their own page styles. They didn\\'t know it, but they were editing Lisp expressions underneath. But this wasn\\'t an app editor, because the code ran when the merchants\\' sites were generated, not when shoppers visited them.\\n\\n[10] This was the first instance of what is now a familiar experience, and so was what happened next, when I read the comments and found they were full of angry people. How could I claim that Lisp was better than other languages? Weren\\'t they all Turing complete? People who see the responses to essays I write sometimes tell me how sorry they feel for me, but I\\'m not exaggerating when I reply that it has always been like this, since the very beginning. It comes with the territory. An essay must tell readers things they don\\'t already know, and some people dislike being told such things.\\n\\n[11] People put plenty of stuff on the internet in the 90s of course, but putting something online is not the same as publishing it online. Publishing online means you treat the online version as the (or at least a) primary version.\\n\\n[12] There is a general lesson here that our experience with Y Combinator also teaches: Customs continue to constrain you long after the restrictions that caused them have disappeared. Customary VC practice had once, like the customs about publishing essays, been based on real constraints. Startups had once been much more expensive to start, and proportionally rare. Now they could be cheap and common, but the VCs\\' customs still reflected the old world, just as customs about writing essays still reflected the constraints of the print era.\\n\\nWhich in turn implies that people who are independent-minded (i.e. less influenced by custom) will have an advantage in fields affected by rapid change (where customs are more likely to be obsolete).\\n---------------------\\nGiven the context information and not prior knowledge, answer the query.\\nQuery: What did the author do growing up?\\nAnswer: '}], 'model': 'gpt-3.5-turbo', 'stream': False, 'temperature': 0.1}}\n",
      "2024-02-04 11:15:23,609 \u001b[36;20m [httpcore.connection] [DEBUG] \u001b[0m connect_tcp.started host='api.openai.com' port=443 local_address=None timeout=60.0 socket_options=None\n",
      "2024-02-04 11:15:23,690 \u001b[36;20m [httpcore.connection] [DEBUG] \u001b[0m connect_tcp.complete return_value=<httpcore._backends.sync.SyncStream object at 0x16aac9e10>\n",
      "2024-02-04 11:15:23,690 \u001b[36;20m [httpcore.connection] [DEBUG] \u001b[0m start_tls.started ssl_context=<ssl.SSLContext object at 0x16a9f2330> server_hostname='api.openai.com' timeout=60.0\n",
      "2024-02-04 11:15:23,779 \u001b[36;20m [httpcore.connection] [DEBUG] \u001b[0m start_tls.complete return_value=<httpcore._backends.sync.SyncStream object at 0x168bed710>\n",
      "2024-02-04 11:15:23,780 \u001b[36;20m [httpcore.http11] [DEBUG] \u001b[0m send_request_headers.started request=<Request [b'POST']>\n",
      "2024-02-04 11:15:23,780 \u001b[36;20m [httpcore.http11] [DEBUG] \u001b[0m send_request_headers.complete\n",
      "2024-02-04 11:15:23,780 \u001b[36;20m [httpcore.http11] [DEBUG] \u001b[0m send_request_body.started request=<Request [b'POST']>\n",
      "2024-02-04 11:15:23,780 \u001b[36;20m [httpcore.http11] [DEBUG] \u001b[0m send_request_body.complete\n",
      "2024-02-04 11:15:23,781 \u001b[36;20m [httpcore.http11] [DEBUG] \u001b[0m receive_response_headers.started request=<Request [b'POST']>\n",
      "2024-02-04 11:15:25,696 \u001b[36;20m [httpcore.http11] [DEBUG] \u001b[0m receive_response_headers.complete return_value=(b'HTTP/1.1', 200, b'OK', [(b'Date', b'Sun, 04 Feb 2024 16:15:25 GMT'), (b'Content-Type', b'application/json'), (b'Transfer-Encoding', b'chunked'), (b'Connection', b'keep-alive'), (b'access-control-allow-origin', b'*'), (b'Cache-Control', b'no-cache, must-revalidate'), (b'openai-model', b'gpt-3.5-turbo-0613'), (b'openai-organization', b'guaneenterprises'), (b'openai-processing-ms', b'1492'), (b'openai-version', b'2020-10-01'), (b'strict-transport-security', b'max-age=15724800; includeSubDomains'), (b'x-ratelimit-limit-requests', b'10000'), (b'x-ratelimit-limit-tokens', b'2000000'), (b'x-ratelimit-remaining-requests', b'9999'), (b'x-ratelimit-remaining-tokens', b'1997609'), (b'x-ratelimit-reset-requests', b'6ms'), (b'x-ratelimit-reset-tokens', b'71ms'), (b'x-request-id', b'9dc5d63c7b7b8f21d732f1f355ac7084'), (b'CF-Cache-Status', b'DYNAMIC'), (b'Set-Cookie', b'__cf_bm=Wys9_gsHKn2z1DOTjD_rEUZgIJhRZn3C_F0cxq..IRE-1707063325-1-ASWmMnyofTKFi4znc0YTS38G3yAcNHbHxctVeV9oFhCyNOobZtTNhwFMwIo4RnFKNdp0jjDV1FwavHeYUUZgoxo=; path=/; expires=Sun, 04-Feb-24 16:45:25 GMT; domain=.api.openai.com; HttpOnly; Secure; SameSite=None'), (b'Set-Cookie', b'_cfuvid=hhwinzJAdz2w8KhKCgpqY14OFfCAnT8SPWIw3VHhp7c-1707063325724-0-604800000; path=/; domain=.api.openai.com; HttpOnly; Secure; SameSite=None'), (b'Server', b'cloudflare'), (b'CF-RAY', b'8504364e6a6421eb-MIA'), (b'Content-Encoding', b'gzip'), (b'alt-svc', b'h3=\":443\"; ma=86400')])\n",
      "2024-02-04 11:15:25,697 \u001b[32m [httpx] [INFO] \u001b[0m HTTP Request: POST https://api.openai.com/v1/chat/completions \"HTTP/1.1 200 OK\"\n",
      "2024-02-04 11:15:25,697 \u001b[36;20m [httpcore.http11] [DEBUG] \u001b[0m receive_response_body.started request=<Request [b'POST']>\n",
      "2024-02-04 11:15:25,698 \u001b[36;20m [httpcore.http11] [DEBUG] \u001b[0m receive_response_body.complete\n",
      "2024-02-04 11:15:25,698 \u001b[36;20m [httpcore.http11] [DEBUG] \u001b[0m response_closed.started\n",
      "2024-02-04 11:15:25,698 \u001b[36;20m [httpcore.http11] [DEBUG] \u001b[0m response_closed.complete\n",
      "2024-02-04 11:15:25,698 \u001b[36;20m [openai._base_client] [DEBUG] \u001b[0m HTTP Request: POST https://api.openai.com/v1/chat/completions \"200 OK\"\n",
      "\n",
      "\n",
      "Response(response='The author wrote short stories and also worked on '\n",
      "                  'programming, specifically on an IBM 1401 computer in 9th '\n",
      "                  'grade. They later transitioned to working on '\n",
      "                  'microcomputers, starting with a kit-built computer and '\n",
      "                  'eventually getting a TRS-80. They wrote simple games, a '\n",
      "                  'program to predict rocket heights, and even a word '\n",
      "                  'processor.',\n",
      "         source_nodes=[NodeWithScore(node=TextNode(id_='d4e5eefc-0e29-4676-b10d-e4dcccfcae7e', embedding=None, metadata={'file_path': 'datalake/paul_graham_essay.txt', 'file_name': 'paul_graham_essay.txt', 'file_type': 'text/plain', 'file_size': 75041, 'creation_date': '2024-02-04', 'last_modified_date': '2024-02-04', 'last_accessed_date': '2024-02-04'}, excluded_embed_metadata_keys=['file_name', 'file_type', 'file_size', 'creation_date', 'last_modified_date', 'last_accessed_date'], excluded_llm_metadata_keys=['file_name', 'file_type', 'file_size', 'creation_date', 'last_modified_date', 'last_accessed_date'], relationships={<NodeRelationship.SOURCE: '1'>: RelatedNodeInfo(node_id='d4a3945f-9483-4bfb-8226-a5d4e5c4c509', node_type=<ObjectType.DOCUMENT: '4'>, metadata={'file_path': 'datalake/paul_graham_essay.txt', 'file_name': 'paul_graham_essay.txt', 'file_type': 'text/plain', 'file_size': 75041, 'creation_date': '2024-02-04', 'last_modified_date': '2024-02-04', 'last_accessed_date': '2024-02-04'}, hash='35df436309948423225c5357b4ce2e9dd861f4bf8bbf683233e22fd9a62b2878'), <NodeRelationship.NEXT: '3'>: RelatedNodeInfo(node_id='b1cdfc39-104f-485e-b788-ea5228c7aaa0', node_type=<ObjectType.TEXT: '1'>, metadata={}, hash='692d74391b6ad961556d19669374a543e4752bab10e415d8eeeda9ccf682a597')}, text='What I Worked On\\n\\nFebruary 2021\\n\\nBefore college the two main things I worked on, outside of school, were writing and programming. I didn\\'t write essays. I wrote what beginning writers were supposed to write then, and probably still are: short stories. My stories were awful. They had hardly any plot, just characters with strong feelings, which I imagined made them deep.\\n\\nThe first programs I tried writing were on the IBM 1401 that our school district used for what was then called \"data processing.\" This was in 9th grade, so I was 13 or 14. The school district\\'s 1401 happened to be in the basement of our junior high school, and my friend Rich Draves and I got permission to use it. It was like a mini Bond villain\\'s lair down there, with all these alien-looking machines — CPU, disk drives, printer, card reader — sitting up on a raised floor under bright fluorescent lights.\\n\\nThe language we used was an early version of Fortran. You had to type programs on punch cards, then stack them in the card reader and press a button to load the program into memory and run it. The result would ordinarily be to print something on the spectacularly loud printer.\\n\\nI was puzzled by the 1401. I couldn\\'t figure out what to do with it. And in retrospect there\\'s not much I could have done with it. The only form of input to programs was data stored on punched cards, and I didn\\'t have any data stored on punched cards. The only other option was to do things that didn\\'t rely on any input, like calculate approximations of pi, but I didn\\'t know enough math to do anything interesting of that type. So I\\'m not surprised I can\\'t remember any programs I wrote, because they can\\'t have done much. My clearest memory is of the moment I learned it was possible for programs not to terminate, when one of mine didn\\'t. On a machine without time-sharing, this was a social as well as a technical error, as the data center manager\\'s expression made clear.\\n\\nWith microcomputers, everything changed. Now you could have a computer sitting right in front of you, on a desk, that could respond to your keystrokes as it was running instead of just churning through a stack of punch cards and then stopping. [1]\\n\\nThe first of my friends to get a microcomputer built it himself. It was sold as a kit by Heathkit. I remember vividly how impressed and envious I felt watching him sitting in front of it, typing programs right into the computer.\\n\\nComputers were expensive in those days and it took me years of nagging before I convinced my father to buy one, a TRS-80, in about 1980. The gold standard then was the Apple II, but a TRS-80 was good enough. This was when I really started programming. I wrote simple games, a program to predict how high my model rockets would fly, and a word processor that my father used to write at least one book. There was only room in memory for about 2 pages of text, so he\\'d write 2 pages at a time and then print them out, but it was a lot better than a typewriter.\\n\\nThough I liked programming, I didn\\'t plan to study it in college. In college I was going to study philosophy, which sounded much more powerful. It seemed, to my naive high school self, to be the study of the ultimate truths, compared to which the things studied in other fields would be mere domain knowledge. What I discovered when I got to college was that the other fields took up so much of the space of ideas that there wasn\\'t much left for these supposed ultimate truths. All that seemed left for philosophy were edge cases that people in other fields felt could safely be ignored.\\n\\nI couldn\\'t have put this into words when I was 18. All I knew at the time was that I kept taking philosophy courses and they kept being boring. So I decided to switch to AI.\\n\\nAI was in the air in the mid 1980s, but there were two things especially that made me want to work on it: a novel by Heinlein called The Moon is a Harsh Mistress, which featured an intelligent computer called Mike, and a PBS documentary that showed Terry Winograd using SHRDLU. I haven\\'t tried rereading The Moon is a Harsh Mistress, so I don\\'t know how well it has aged, but when I read it I was drawn entirely into its world. It seemed only a matter of time before we\\'d have Mike, and when I saw Winograd using SHRDLU, it seemed like that time would be a few years at most.', start_char_idx=2, end_char_idx=4320, text_template='{metadata_str}\\n\\n{content}', metadata_template='{key}: {value}', metadata_seperator='\\n'), score=0.8168338713009512),\n",
      "                       NodeWithScore(node=TextNode(id_='f363e52d-5ada-41bb-84fb-7d0b00839508', embedding=None, metadata={'file_path': 'datalake/paul_graham_essay.txt', 'file_name': 'paul_graham_essay.txt', 'file_type': 'text/plain', 'file_size': 75041, 'creation_date': '2024-02-04', 'last_modified_date': '2024-02-04', 'last_accessed_date': '2024-02-04'}, excluded_embed_metadata_keys=['file_name', 'file_type', 'file_size', 'creation_date', 'last_modified_date', 'last_accessed_date'], excluded_llm_metadata_keys=['file_name', 'file_type', 'file_size', 'creation_date', 'last_modified_date', 'last_accessed_date'], relationships={<NodeRelationship.SOURCE: '1'>: RelatedNodeInfo(node_id='d4a3945f-9483-4bfb-8226-a5d4e5c4c509', node_type=<ObjectType.DOCUMENT: '4'>, metadata={'file_path': 'datalake/paul_graham_essay.txt', 'file_name': 'paul_graham_essay.txt', 'file_type': 'text/plain', 'file_size': 75041, 'creation_date': '2024-02-04', 'last_modified_date': '2024-02-04', 'last_accessed_date': '2024-02-04'}, hash='35df436309948423225c5357b4ce2e9dd861f4bf8bbf683233e22fd9a62b2878'), <NodeRelationship.PREVIOUS: '2'>: RelatedNodeInfo(node_id='073f4202-5863-47ed-a78b-7e26daf8fd76', node_type=<ObjectType.TEXT: '1'>, metadata={'file_path': 'datalake/paul_graham_essay.txt', 'file_name': 'paul_graham_essay.txt', 'file_type': 'text/plain', 'file_size': 75041, 'creation_date': '2024-02-04', 'last_modified_date': '2024-02-04', 'last_accessed_date': '2024-02-04'}, hash='b3a670765ce9905f0496135ab9463e1ea6efcd7bb7da9c7a49594731df2a3d28'), <NodeRelationship.NEXT: '3'>: RelatedNodeInfo(node_id='63c53215-5cd1-4242-9f91-7087949a3e5d', node_type=<ObjectType.TEXT: '1'>, metadata={}, hash='856362a1e34d54cf5b63ed7df79e9d4f0bea8fb0e1577565a0ef0e1c24630922')}, text=\"I wrote an essay for myself to answer that question, and I was surprised how long and messy the answer turned out to be. If this surprised me, who'd lived it, then I thought perhaps it would be interesting to other people, and encouraging to those with similarly messy lives. So I wrote a more detailed version for others to read, and this is the last sentence of it.\\n\\n\\n\\n\\n\\n\\n\\n\\n\\nNotes\\n\\n[1] My experience skipped a step in the evolution of computers: time-sharing machines with interactive OSes. I went straight from batch processing to microcomputers, which made microcomputers seem all the more exciting.\\n\\n[2] Italian words for abstract concepts can nearly always be predicted from their English cognates (except for occasional traps like polluzione). It's the everyday words that differ. So if you string together a lot of abstract concepts with a few simple verbs, you can make a little Italian go a long way.\\n\\n[3] I lived at Piazza San Felice 4, so my walk to the Accademia went straight down the spine of old Florence: past the Pitti, across the bridge, past Orsanmichele, between the Duomo and the Baptistery, and then up Via Ricasoli to Piazza San Marco. I saw Florence at street level in every possible condition, from empty dark winter evenings to sweltering summer days when the streets were packed with tourists.\\n\\n[4] You can of course paint people like still lives if you want to, and they're willing. That sort of portrait is arguably the apex of still life painting, though the long sitting does tend to produce pained expressions in the sitters.\\n\\n[5] Interleaf was one of many companies that had smart people and built impressive technology, and yet got crushed by Moore's Law. In the 1990s the exponential growth in the power of commodity (i.e. Intel) processors rolled up high-end, special-purpose hardware and software companies like a bulldozer.\\n\\n[6] The signature style seekers at RISD weren't specifically mercenary. In the art world, money and coolness are tightly coupled. Anything expensive comes to be seen as cool, and anything seen as cool will soon become equally expensive.\\n\\n[7] Technically the apartment wasn't rent-controlled but rent-stabilized, but this is a refinement only New Yorkers would know or care about. The point is that it was really cheap, less than half market price.\\n\\n[8] Most software you can launch as soon as it's done. But when the software is an online store builder and you're hosting the stores, if you don't have any users yet, that fact will be painfully obvious. So before we could launch publicly we had to launch privately, in the sense of recruiting an initial set of users and making sure they had decent-looking stores.\\n\\n[9] We'd had a code editor in Viaweb for users to define their own page styles. They didn't know it, but they were editing Lisp expressions underneath. But this wasn't an app editor, because the code ran when the merchants' sites were generated, not when shoppers visited them.\\n\\n[10] This was the first instance of what is now a familiar experience, and so was what happened next, when I read the comments and found they were full of angry people. How could I claim that Lisp was better than other languages? Weren't they all Turing complete? People who see the responses to essays I write sometimes tell me how sorry they feel for me, but I'm not exaggerating when I reply that it has always been like this, since the very beginning. It comes with the territory. An essay must tell readers things they don't already know, and some people dislike being told such things.\\n\\n[11] People put plenty of stuff on the internet in the 90s of course, but putting something online is not the same as publishing it online. Publishing online means you treat the online version as the (or at least a) primary version.\\n\\n[12] There is a general lesson here that our experience with Y Combinator also teaches: Customs continue to constrain you long after the restrictions that caused them have disappeared. Customary VC practice had once, like the customs about publishing essays, been based on real constraints. Startups had once been much more expensive to start, and proportionally rare. Now they could be cheap and common, but the VCs' customs still reflected the old world, just as customs about writing essays still reflected the constraints of the print era.\\n\\nWhich in turn implies that people who are independent-minded (i.e. less influenced by custom) will have an advantage in fields affected by rapid change (where customs are more likely to be obsolete).\", start_char_idx=67126, end_char_idx=71657, text_template='{metadata_str}\\n\\n{content}', metadata_template='{key}: {value}', metadata_seperator='\\n'), score=0.809325407323835)],\n",
      "         metadata={'d4e5eefc-0e29-4676-b10d-e4dcccfcae7e': {'creation_date': '2024-02-04',\n",
      "                                                            'file_name': 'paul_graham_essay.txt',\n",
      "                                                            'file_path': 'datalake/paul_graham_essay.txt',\n",
      "                                                            'file_size': 75041,\n",
      "                                                            'file_type': 'text/plain',\n",
      "                                                            'last_accessed_date': '2024-02-04',\n",
      "                                                            'last_modified_date': '2024-02-04'},\n",
      "                   'f363e52d-5ada-41bb-84fb-7d0b00839508': {'creation_date': '2024-02-04',\n",
      "                                                            'file_name': 'paul_graham_essay.txt',\n",
      "                                                            'file_path': 'datalake/paul_graham_essay.txt',\n",
      "                                                            'file_size': 75041,\n",
      "                                                            'file_type': 'text/plain',\n",
      "                                                            'last_accessed_date': '2024-02-04',\n",
      "                                                            'last_modified_date': '2024-02-04'}})\n"
     ]
    }
   ],
   "source": [
    "# either way we can now query the index\n",
    "query_engine = index.as_query_engine()\n",
    "response = query_engine.query(\"What did the author do growing up?\")\n",
    "print('\\n')\n",
    "pprint(response)"
   ]
  },
  {
   "cell_type": "code",
   "execution_count": 9,
   "metadata": {},
   "outputs": [
    {
     "name": "stdout",
     "output_type": "stream",
     "text": [
      "('The author wrote short stories and also worked on programming, specifically '\n",
      " 'on an IBM 1401 computer in 9th grade. They later transitioned to working on '\n",
      " 'microcomputers, starting with a kit-built computer and eventually getting a '\n",
      " 'TRS-80. They wrote simple games, a program to predict rocket heights, and '\n",
      " 'even a word processor.')\n"
     ]
    }
   ],
   "source": [
    "pprint(response.response)"
   ]
  },
  {
   "cell_type": "markdown",
   "metadata": {},
   "source": [
    "<a id=\"2-high-level-concepts\"></a>\n",
    "## 2. High-Level Concepts"
   ]
  },
  {
   "cell_type": "code",
   "execution_count": null,
   "metadata": {},
   "outputs": [],
   "source": []
  }
 ],
 "metadata": {
  "kernelspec": {
   "display_name": "llm-information-retrieval-YlmZYzqu",
   "language": "python",
   "name": "llm-information-retrieval-ylmzyzqu"
  },
  "language_info": {
   "codemirror_mode": {
    "name": "ipython",
    "version": 3
   },
   "file_extension": ".py",
   "mimetype": "text/x-python",
   "name": "python",
   "nbconvert_exporter": "python",
   "pygments_lexer": "ipython3",
   "version": "3.11.7"
  },
  "vscode": {
   "interpreter": {
    "hash": "89f25e150674532321ca55ae6a5ea7173e34256d5b854f3e13e93e95a15762e1"
   }
  }
 },
 "nbformat": 4,
 "nbformat_minor": 2
}
