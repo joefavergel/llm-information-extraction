{
 "cells": [
  {
   "attachments": {},
   "cell_type": "markdown",
   "metadata": {},
   "source": [
    "<img heigth=\"8\" src=\"https://i.imgur.com/BcT6v4W.png\" alt=\"llmix\">\n",
    "\n",
    "<h1 align=\"left\">LLMIX</h1>\n",
    "<h2 align=\"left\"><i>Large Language Models for Information eXtraction</i></h2>\n",
    "<p align=\"left\">A Compilation of Notes on the Use of Large Language Models (LLMs) for Information Retrieval</p>\n",
    "\n",
    "<p align=\"left\">\n",
    "  <h3><a href=\"https://joefaver.dev\">Joseph F. Vergel-Becerra</a></h3>\n",
    "  <br>\n",
    "  <b>Last updated:</b> <i>03/02/2024</i>\n",
    "  <br><br>\n",
    "  <a href=\"#introduction\">Introduction</a> •\n",
    "  <a href=\"#references\">References</a>\n",
    "  <br><br>\n",
    "</p>\n",
    "<table align=\"left\">\n",
    "  <td>\n",
    "      <a href=\"https://img.shields.io/badge/version-0.1.0-blue.svg?cacheSeconds=2592000\">\n",
    "        <img src=\"https://img.shields.io/badge/version-0.1.0-blue.svg?cacheSeconds=2592000\" alt=\"Version\" height=\"18\">\n",
    "      </a>\n",
    "  </td>\n",
    "  <td>\n",
    "    <a href=\"https://colab.research.google.com/github/joefavergel/pbs-enae-python-applications-course/blob/main/2-retail-store-item-detection-preparation.ipynb\" target=\"_parent\"><img src=\"https://colab.research.google.com/assets/colab-badge.svg\" alt=\"Open In Colab\"/>\n",
    "      </a>\n",
    "  </td>\n",
    "  <td>\n",
    "    <a href=\"https://github.com/joefavergel/pbs-enae-python-applications-course\" target=\"_parent\"><img src=\"https://img.shields.io/github/forks/joefavergel/pbs-enae-python-beginners-course?style=social\" alt=\"Fork\"/>\n",
    "    </a>\n",
    "  </td>\n",
    "</table>\n",
    "<br>\n",
    "<br>\n",
    "\n",
    "---\n",
    "\n",
    "A compilation of notes."
   ]
  },
  {
   "attachments": {},
   "cell_type": "markdown",
   "metadata": {},
   "source": [
    "<a id=\"1-data-extraction\"></a>\n",
    "## Introduction"
   ]
  },
  {
   "cell_type": "code",
   "execution_count": 1,
   "metadata": {},
   "outputs": [],
   "source": [
    "import os\n",
    "\n",
    "import matplotlib.pyplot as plt\n",
    "import numpy as np\n",
    "import pandas as pd\n",
    "import seaborn as sns"
   ]
  },
  {
   "cell_type": "code",
   "execution_count": 2,
   "metadata": {},
   "outputs": [
    {
     "name": "stdout",
     "output_type": "stream",
     "text": [
      "[INFO] WORKDIR: /Users/joefaver/Codes/self/llm-information-retrieval/..\n"
     ]
    }
   ],
   "source": [
    "try:\n",
    "    import importlib\n",
    "\n",
    "    __package__ = \"llmix\"\n",
    "\n",
    "    found = False\n",
    "    while not found:\n",
    "        os.chdir(os.path.join(os.getcwd(), os.pardir))\n",
    "        found = bool(importlib.util.find_spec(__package__))\n",
    "        if found:\n",
    "            print(f\"[INFO] WORKDIR: {os.path.join(os.getcwd(), os.pardir)}\")\n",
    "        continue\n",
    "except ModuleNotFoundError as e:\n",
    "    print(\"[ERROR] Verify WORKDIR execution: \", e)"
   ]
  },
  {
   "cell_type": "code",
   "execution_count": 5,
   "metadata": {},
   "outputs": [
    {
     "name": "stdout",
     "output_type": "stream",
     "text": [
      "[INFO] Package version: v0.1.0\n"
     ]
    }
   ],
   "source": [
    "import llmix\n",
    "from llmix.config import settings\n",
    "from llmix.logging import logger\n",
    "from llmix.utils import set_seed_everything\n",
    "\n",
    "print(f\"[INFO] Package version: {llmix.__version__}\")"
   ]
  },
  {
   "cell_type": "code",
   "execution_count": 4,
   "metadata": {},
   "outputs": [],
   "source": [
    "SEED = 42\n",
    "set_seed_everything(SEED)"
   ]
  }
 ],
 "metadata": {
  "kernelspec": {
   "display_name": "llm-information-retrieval-YlmZYzqu",
   "language": "python",
   "name": "llm-information-retrieval-ylmzyzqu"
  },
  "language_info": {
   "codemirror_mode": {
    "name": "ipython",
    "version": 3
   },
   "file_extension": ".py",
   "mimetype": "text/x-python",
   "name": "python",
   "nbconvert_exporter": "python",
   "pygments_lexer": "ipython3",
   "version": "3.11.7"
  },
  "vscode": {
   "interpreter": {
    "hash": "89f25e150674532321ca55ae6a5ea7173e34256d5b854f3e13e93e95a15762e1"
   }
  }
 },
 "nbformat": 4,
 "nbformat_minor": 2
}
